{
  "cells": [
    {
      "cell_type": "markdown",
      "metadata": {
        "id": "OgxSJqEcuoV8"
      },
      "source": [
        "<h1><b>MNist Handwritten Digit Classification</b></h1>"
      ]
    },
    {
      "cell_type": "markdown",
      "metadata": {
        "id": "CaIxhcJmAW6C"
      },
      "source": [
        "<h2>IMPORTING USEFUL LIBRARIES</h2>\n"
      ]
    },
    {
      "cell_type": "code",
      "execution_count": 2,
      "metadata": {
        "colab": {
          "base_uri": "https://localhost:8080/"
        },
        "id": "_k5J5OESOEdW",
        "outputId": "8732580e-2f23-408e-b475-08488a53b895"
      },
      "outputs": [
        {
          "name": "stdout",
          "output_type": "stream",
          "text": [
            "Requirement already satisfied: keras-tuner in /usr/local/lib/python3.10/dist-packages (1.4.7)\n",
            "Requirement already satisfied: keras in /usr/local/lib/python3.10/dist-packages (from keras-tuner) (2.15.0)\n",
            "Requirement already satisfied: packaging in /usr/local/lib/python3.10/dist-packages (from keras-tuner) (24.0)\n",
            "Requirement already satisfied: requests in /usr/local/lib/python3.10/dist-packages (from keras-tuner) (2.31.0)\n",
            "Requirement already satisfied: kt-legacy in /usr/local/lib/python3.10/dist-packages (from keras-tuner) (1.0.5)\n",
            "Requirement already satisfied: charset-normalizer<4,>=2 in /usr/local/lib/python3.10/dist-packages (from requests->keras-tuner) (3.3.2)\n",
            "Requirement already satisfied: idna<4,>=2.5 in /usr/local/lib/python3.10/dist-packages (from requests->keras-tuner) (3.6)\n",
            "Requirement already satisfied: urllib3<3,>=1.21.1 in /usr/local/lib/python3.10/dist-packages (from requests->keras-tuner) (2.0.7)\n",
            "Requirement already satisfied: certifi>=2017.4.17 in /usr/local/lib/python3.10/dist-packages (from requests->keras-tuner) (2024.2.2)\n"
          ]
        },
        {
          "name": "stderr",
          "output_type": "stream",
          "text": [
            "<ipython-input-2-0d99fcc6ac46>:8: DeprecationWarning: `import kerastuner` is deprecated, please use `import keras_tuner`.\n",
            "  import kerastuner\n"
          ]
        }
      ],
      "source": [
        "import numpy as np\n",
        "import tensorflow as tf\n",
        "from tensorflow import keras\n",
        "from keras.preprocessing.image import ImageDataGenerator\n",
        "from sklearn.model_selection import train_test_split\n",
        "import matplotlib.pyplot as pltq1\n",
        "!pip install keras-tuner\n",
        "import kerastuner\n",
        "from kerastuner.tuners import RandomSearch\n",
        "from kerastuner.engine.hyperparameters import HyperParameters"
      ]
    },
    {
      "cell_type": "markdown",
      "metadata": {
        "id": "rwQGaXVjARc3"
      },
      "source": [
        "\n",
        "<h2>LOADING MNIST DATASET</h2>\n"
      ]
    },
    {
      "cell_type": "code",
      "execution_count": 3,
      "metadata": {
        "colab": {
          "base_uri": "https://localhost:8080/"
        },
        "id": "Q_igctZuf8Iz",
        "outputId": "93cb1767-be44-48aa-daf2-a4dda298314e"
      },
      "outputs": [
        {
          "name": "stdout",
          "output_type": "stream",
          "text": [
            "Downloading data from https://storage.googleapis.com/tensorflow/tf-keras-datasets/mnist.npz\n",
            "11490434/11490434 [==============================] - 0s 0us/step\n"
          ]
        }
      ],
      "source": [
        "# Load the MNIST dataset\n",
        "(X_train, y_train), (X_test, y_test) = keras.datasets.mnist.load_data()"
      ]
    },
    {
      "cell_type": "markdown",
      "metadata": {
        "id": "JMLOUSFcAQ9d"
      },
      "source": [
        "<h2>DATA PREPROCESSING</h2>\n"
      ]
    },
    {
      "cell_type": "markdown",
      "metadata": {
        "id": "VIcZ29OcAuVV"
      },
      "source": [
        "<h4>STANDARDISATION</h4>"
      ]
    },
    {
      "cell_type": "code",
      "execution_count": 4,
      "metadata": {
        "id": "htjRi4VqgFqZ"
      },
      "outputs": [],
      "source": [
        "# Standardization\n",
        "X_train_standardized = (X_train - np.mean(X_train)) / np.std(X_train)\n",
        "X_test_standardized = (X_test - np.mean(X_test)) / np.std(X_test)\n",
        "\n",
        "# Add channel dimension\n",
        "X_train_standardized = np.expand_dims(X_train_standardized, axis=-1)\n",
        "X_test_standardized = np.expand_dims(X_test_standardized, axis=-1)"
      ]
    },
    {
      "cell_type": "markdown",
      "metadata": {
        "id": "GVN352tcBDrl"
      },
      "source": [
        "\n",
        "<h4>SPLITTING DATASET INTO TRAIN AND TEST SETS</h4>"
      ]
    },
    {
      "cell_type": "code",
      "execution_count": 5,
      "metadata": {
        "id": "xpPPVSY7A9RE"
      },
      "outputs": [],
      "source": [
        "# Split the training data into training and validation sets\n",
        "X_train_split, X_val_split, y_train_split, y_val_split = train_test_split(X_train_standardized, y_train, test_size=0.1, random_state=42)"
      ]
    },
    {
      "cell_type": "markdown",
      "metadata": {
        "id": "Xg1xfNx6AQEK"
      },
      "source": [
        "<h3>DATA AUGMENTATION</h3>\n"
      ]
    },
    {
      "cell_type": "code",
      "execution_count": 6,
      "metadata": {
        "id": "xM473suvgK0w"
      },
      "outputs": [],
      "source": [
        "# Data Augmentation\n",
        "datagen = ImageDataGenerator(\n",
        "    rotation_range=10,\n",
        "    zoom_range=0.10,\n",
        "    width_shift_range=0.1,\n",
        "    height_shift_range=0.1,\n",
        "    shear_range=0.2,\n",
        "    horizontal_flip=True,\n",
        "    vertical_flip=True\n",
        ")\n",
        "\n",
        "datagen.fit(X_train_split)"
      ]
    },
    {
      "cell_type": "markdown",
      "metadata": {
        "id": "PacSagzBAPbu"
      },
      "source": [
        "\n",
        "<h2>SETTING MODEL ARCHITECTURE</h2>\n"
      ]
    },
    {
      "cell_type": "markdown",
      "metadata": {
        "id": "UGlse9L4TPzy"
      },
      "source": [
        "<h3>MODEL BUILDER FUNCTION</h3>"
      ]
    },
    {
      "cell_type": "code",
      "execution_count": 7,
      "metadata": {
        "id": "ycQWEVN0NIPM"
      },
      "outputs": [],
      "source": [
        "# Define the model builder function\n",
        "def build_model(hp):\n",
        "    model = keras.Sequential()\n",
        "    model.add(keras.layers.Flatten(input_shape=(28, 28, 1)))\n",
        "\n",
        "    # Tune the number of units in the first Dense layer\n",
        "    hp_units = hp.Int('units', min_value=32, max_value=512, step=32)\n",
        "    model.add(keras.layers.Dense(units=hp_units, activation='relu'))\n",
        "\n",
        "    # Tune the dropout rate in the first Dropout layer\n",
        "    hp_dropout = hp.Float('dropout', min_value=0.2, max_value=0.5, step=0.1)\n",
        "    model.add(keras.layers.Dropout(rate=hp_dropout))\n",
        "\n",
        "    model.add(keras.layers.Dense(10, activation='softmax'))\n",
        "\n",
        "    # Compile the model\n",
        "    model.compile(optimizer='adam',\n",
        "                  loss='sparse_categorical_crossentropy',\n",
        "                  metrics=['accuracy'])\n",
        "\n",
        "    return model"
      ]
    },
    {
      "cell_type": "markdown",
      "metadata": {
        "id": "-zEB6JWSTcYD"
      },
      "source": [
        "<h3>DEFINING TUNER</h3>"
      ]
    },
    {
      "cell_type": "code",
      "execution_count": 8,
      "metadata": {
        "id": "YC_Wg1-JNRCd"
      },
      "outputs": [],
      "source": [
        "# Define the tuner\n",
        "tuner = RandomSearch(\n",
        "    build_model,\n",
        "    objective='val_accuracy',\n",
        "    max_trials=5,  # Number of hyperparameter combinations to try\n",
        "    executions_per_trial=1,  # Number of models to train per trial\n",
        "    directory='hyperparameter_tuning',\n",
        "    project_name='mnist_hyperparameter_tuning'\n",
        ")"
      ]
    },
    {
      "cell_type": "markdown",
      "metadata": {
        "id": "BicdbHKXTs1u"
      },
      "source": [
        "\n",
        "<h3>HYPERPARAMETER TUNING</h3>\n"
      ]
    },
    {
      "cell_type": "code",
      "execution_count": 9,
      "metadata": {
        "colab": {
          "base_uri": "https://localhost:8080/"
        },
        "id": "RgJ-583sNrAF",
        "outputId": "d0baadcd-5009-4122-d2fa-78e4b3036ad5"
      },
      "outputs": [
        {
          "name": "stdout",
          "output_type": "stream",
          "text": [
            "Trial 5 Complete [00h 02m 24s]\n",
            "val_accuracy: 0.9818333387374878\n",
            "\n",
            "Best val_accuracy So Far: 0.9818333387374878\n",
            "Total elapsed time: 00h 10m 45s\n"
          ]
        }
      ],
      "source": [
        "# Perform hyperparameter tuning\n",
        "tuner.search(X_train_split, y_train_split,\n",
        "             epochs=10,\n",
        "             validation_data=(X_val_split, y_val_split))\n",
        "\n",
        "# Get the best hyperparameters\n",
        "best_hp = tuner.get_best_hyperparameters(num_trials=1)[0]\n",
        "\n",
        "# Build the best model\n",
        "best_model = tuner.hypermodel.build(best_hp)"
      ]
    },
    {
      "cell_type": "markdown",
      "metadata": {
        "id": "w_M_nCNDAOvi"
      },
      "source": [
        "\n",
        "<h2>TRAINING ON TRAIN SET</h2>\n"
      ]
    },
    {
      "cell_type": "code",
      "execution_count": 10,
      "metadata": {
        "colab": {
          "base_uri": "https://localhost:8080/"
        },
        "id": "Dd2_YzDvglpW",
        "outputId": "a83628d4-457e-41a6-98ba-4b187ae2d5b9"
      },
      "outputs": [
        {
          "name": "stdout",
          "output_type": "stream",
          "text": [
            "Epoch 1/10\n",
            "1688/1688 [==============================] - 15s 8ms/step - loss: 0.2777 - accuracy: 0.9139 - val_loss: 0.1343 - val_accuracy: 0.9587\n",
            "Epoch 2/10\n",
            "1688/1688 [==============================] - 12s 7ms/step - loss: 0.1542 - accuracy: 0.9530 - val_loss: 0.0946 - val_accuracy: 0.9728\n",
            "Epoch 3/10\n",
            "1688/1688 [==============================] - 12s 7ms/step - loss: 0.1299 - accuracy: 0.9592 - val_loss: 0.0968 - val_accuracy: 0.9723\n",
            "Epoch 4/10\n",
            "1688/1688 [==============================] - 12s 7ms/step - loss: 0.1145 - accuracy: 0.9646 - val_loss: 0.0876 - val_accuracy: 0.9735\n",
            "Epoch 5/10\n",
            "1688/1688 [==============================] - 12s 7ms/step - loss: 0.1019 - accuracy: 0.9691 - val_loss: 0.0799 - val_accuracy: 0.9760\n",
            "Epoch 6/10\n",
            "1688/1688 [==============================] - 12s 7ms/step - loss: 0.0955 - accuracy: 0.9713 - val_loss: 0.0806 - val_accuracy: 0.9787\n",
            "Epoch 7/10\n",
            "1688/1688 [==============================] - 12s 7ms/step - loss: 0.0870 - accuracy: 0.9727 - val_loss: 0.0813 - val_accuracy: 0.9765\n",
            "Epoch 8/10\n",
            "1688/1688 [==============================] - 12s 7ms/step - loss: 0.0817 - accuracy: 0.9751 - val_loss: 0.0758 - val_accuracy: 0.9803\n",
            "Epoch 9/10\n",
            "1688/1688 [==============================] - 12s 7ms/step - loss: 0.0771 - accuracy: 0.9758 - val_loss: 0.0809 - val_accuracy: 0.9802\n",
            "Epoch 10/10\n",
            "1688/1688 [==============================] - 12s 7ms/step - loss: 0.0774 - accuracy: 0.9764 - val_loss: 0.0819 - val_accuracy: 0.9802\n"
          ]
        }
      ],
      "source": [
        "# Train the best model\n",
        "history = best_model.fit(X_train_split, y_train_split,\n",
        "                         epochs=10,\n",
        "                         validation_data=(X_val_split, y_val_split))"
      ]
    },
    {
      "cell_type": "markdown",
      "metadata": {
        "id": "MjAAvL4z_rn6"
      },
      "source": [
        "\n",
        "<h2>EVALUATION ON TEST SET</h2>\n"
      ]
    },
    {
      "cell_type": "code",
      "execution_count": 11,
      "metadata": {
        "colab": {
          "base_uri": "https://localhost:8080/"
        },
        "id": "K2MmTllwgrf0",
        "outputId": "52dbbae4-3b68-4483-bea5-dafd32155092"
      },
      "outputs": [
        {
          "name": "stdout",
          "output_type": "stream",
          "text": [
            "313/313 [==============================] - 1s 3ms/step - loss: 0.0788 - accuracy: 0.9785\n",
            "Test Loss: 0.07877079397439957\n",
            "Test Accuracy: 0.9785000085830688\n"
          ]
        }
      ],
      "source": [
        "# Evaluate the best model on the test set\n",
        "test_loss, test_accuracy = best_model.evaluate(X_test_standardized, y_test)\n",
        "print(\"Test Loss:\", test_loss)\n",
        "print(\"Test Accuracy:\", test_accuracy)"
      ]
    },
    {
      "cell_type": "markdown",
      "metadata": {
        "id": "Y003s4uc_TQK"
      },
      "source": [
        "\n",
        "<h2>PLOTTING</h2>\n"
      ]
    },
    {
      "cell_type": "code",
      "execution_count": 14,
      "metadata": {
        "colab": {
          "base_uri": "https://localhost:8080/",
          "height": 449
        },
        "id": "VvkUh21-gtQT",
        "outputId": "2f6360b4-a0b7-4c47-d162-abe467c9e81e"
      },
      "outputs": [
        {
          "data": {
            "image/png": "[encoded data removed]",
            "text/plain": [
              "<Figure size 640x480 with 1 Axes>"
            ]
          },
          "metadata": {},
          "output_type": "display_data"
        }
      ],
      "source": [
        "# Plot training and validation accuracy\n",
        "pltq1.plot(history.history['accuracy'], label='Training Accuracy')\n",
        "pltq1.plot(history.history['val_accuracy'], label='Validation Accuracy')\n",
        "pltq1.xlabel('Epoch')\n",
        "pltq1.ylabel('Accuracy')\n",
        "pltq1.legend()\n",
        "pltq1.show()"
      ]
    }
  ],
  "metadata": {
    "colab": {
      "provenance": []
    },
    "kernelspec": {
      "display_name": "Python 3",
      "name": "python3"
    },
    "language_info": {
      "name": "python"
    }
  },
  "nbformat": 4,
  "nbformat_minor": 0
}
